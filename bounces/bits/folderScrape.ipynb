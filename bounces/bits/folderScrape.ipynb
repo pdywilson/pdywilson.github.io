{
 "cells": [
  {
   "cell_type": "code",
   "execution_count": null,
   "metadata": {},
   "outputs": [],
   "source": [
    "import os"
   ]
  },
  {
   "cell_type": "code",
   "execution_count": 11,
   "metadata": {},
   "outputs": [
    {
     "name": "stdout",
     "output_type": "stream",
     "text": [
      "<div>mrskeep4mondayflow.mp3</div><div><audio controls><source src=\"mrskeep4mondayflow.mp3\" type=\"audio/mpeg\"></audio></div><div>whisperywillows.mp3</div><div><audio controls><source src=\"whisperywillows.mp3\" type=\"audio/mpeg\"></audio></div><div>comethru.mp3</div><div><audio controls><source src=\"comethru.mp3\" type=\"audio/mpeg\"></audio></div><div>pumpbass.mp3</div><div><audio controls><source src=\"pumpbass.mp3\" type=\"audio/mpeg\"></audio></div><div>promdress.mp3</div><div><audio controls><source src=\"promdress.mp3\" type=\"audio/mpeg\"></audio></div><div>nastyv2.mp3</div><div><audio controls><source src=\"nastyv2.mp3\" type=\"audio/mpeg\"></audio></div><div>dojacatjuicyjdillabeat.mp3</div><div><audio controls><source src=\"dojacatjuicyjdillabeat.mp3\" type=\"audio/mpeg\"></audio></div><div>alleyezonher2.mp3</div><div><audio controls><source src=\"alleyezonher2.mp3\" type=\"audio/mpeg\"></audio></div><div>caseyneistat.mp3</div><div><audio controls><source src=\"caseyneistat.mp3\" type=\"audio/mpeg\"></audio></div><div>clean.mp3</div><div><audio controls><source src=\"clean.mp3\" type=\"audio/mpeg\"></audio></div><div>bouncingonbobs.mp3</div><div><audio controls><source src=\"bouncingonbobs.mp3\" type=\"audio/mpeg\"></audio></div><div>lofi4.mp3</div><div><audio controls><source src=\"lofi4.mp3\" type=\"audio/mpeg\"></audio></div><div>ride2.mp3</div><div><audio controls><source src=\"ride2.mp3\" type=\"audio/mpeg\"></audio></div><div>discopop.mp3</div><div><audio controls><source src=\"discopop.mp3\" type=\"audio/mpeg\"></audio></div><div>bananenbrot.mp3</div><div><audio controls><source src=\"bananenbrot.mp3\" type=\"audio/mpeg\"></audio></div><div>spank lay you down beat.mp3</div><div><audio controls><source src=\"spank lay you down beat.mp3\" type=\"audio/mpeg\"></audio></div><div>2bauchtaschen.mp3</div><div><audio controls><source src=\"2bauchtaschen.mp3\" type=\"audio/mpeg\"></audio></div><div>gimmedaticecream.mp3</div><div><audio controls><source src=\"gimmedaticecream.mp3\" type=\"audio/mpeg\"></audio></div><div>lilpeep1.mp3</div><div><audio controls><source src=\"lilpeep1.mp3\" type=\"audio/mpeg\"></audio></div><div>magnetized v4.mp3</div><div><audio controls><source src=\"magnetized v4.mp3\" type=\"audio/mpeg\"></audio></div><div>alliaskofyou.mp3</div><div><audio controls><source src=\"alliaskofyou.mp3\" type=\"audio/mpeg\"></audio></div>\n"
     ]
    }
   ],
   "source": [
    "li = []\n",
    "for file in os.listdir():\n",
    "    if \"mp3\" in file:\n",
    "        li.append( file)\n",
    "li\n",
    "htmlString = \"\"\n",
    "for file in li:\n",
    "    htmlString += \"<div>\"+file+\"</div><div><audio controls><source src=\\\"\"+file+\"\\\" type=\\\"audio/mpeg\\\"></audio></div>\"\n",
    "print(htmlString)"
   ]
  }
 ],
 "metadata": {
  "kernelspec": {
   "display_name": "Python 3",
   "language": "python",
   "name": "python3"
  },
  "language_info": {
   "codemirror_mode": {
    "name": "ipython",
    "version": 3
   },
   "file_extension": ".py",
   "mimetype": "text/x-python",
   "name": "python",
   "nbconvert_exporter": "python",
   "pygments_lexer": "ipython3",
   "version": "3.6.7"
  }
 },
 "nbformat": 4,
 "nbformat_minor": 2
}
