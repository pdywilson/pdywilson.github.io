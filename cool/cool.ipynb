{
 "cells": [
  {
   "cell_type": "markdown",
   "metadata": {},
   "source": [
    "## cool python code"
   ]
  },
  {
   "cell_type": "markdown",
   "metadata": {},
   "source": [
    "#### Definitions. \n",
    "* Data Mining = ML + other techniques (not just learning), Data Science = full process of working with data\n",
    "* Good Data Science: Overfitting, model selection, cross validation, significance of results, error bars, touch test set once"
   ]
  },
  {
   "cell_type": "markdown",
   "metadata": {},
   "source": [
    "## General"
   ]
  },
  {
   "cell_type": "code",
   "execution_count": null,
   "metadata": {},
   "outputs": [],
   "source": [
    "# import data\n",
    "import pandas as pd\n",
    "from sklearn.model_selection import train_test_split\n",
    "df = pd.read_csv('data/ozone.csv')\n",
    "data = df.as_matrix().astype(np.float32)\n",
    "X, y = data[:, 1:], data[:, 0]\n",
    "X_train, X_test, y_train, y_test = train_test_split(X, y, test_size=0.90, random_state=798)"
   ]
  },
  {
   "cell_type": "code",
   "execution_count": null,
   "metadata": {},
   "outputs": [],
   "source": [
    "# pairwise distances\n",
    "from scipy.spatial.distance import pdist"
   ]
  },
  {
   "cell_type": "code",
   "execution_count": null,
   "metadata": {},
   "outputs": [],
   "source": [
    "# randomness\n",
    "#v = (np.random.rand(25000,r) - 0.5) * 2\n",
    "#v = np.random.normal(0, 1, (X.shape[1],r))\n",
    "#v = np.reshape(v, (X.shape[1], r))\n",
    "#fastest:\n",
    "v = (np.random.randint(0,2,size=(25000,r)) - 0.5) * 2\n",
    "#v = np.random.uniform(-1, 1, (25000, r))\n",
    "#v = (np.random.randn(25000,r) - 0.5) * 2\n",
    "x = X @ v\n",
    "\n",
    "# hashbuckets\n",
    "signatureMatrix = (x >= 0) * 1\n",
    "\n",
    "powersTwo = 1 << np.arange(r - 1, -1, -1)\n",
    "\n",
    "hashedBuckets = signatureMatrix @ powersTwo"
   ]
  },
  {
   "cell_type": "code",
   "execution_count": null,
   "metadata": {},
   "outputs": [],
   "source": [
    "# anything sparse -> task02 mmd"
   ]
  },
  {
   "cell_type": "code",
   "execution_count": null,
   "metadata": {},
   "outputs": [],
   "source": [
    "# vector multiplies matrix rows easily:\n",
    "np.diag(a) @ A @ np.diag(b * c)"
   ]
  },
  {
   "cell_type": "markdown",
   "metadata": {},
   "source": [
    "### images"
   ]
  },
  {
   "cell_type": "code",
   "execution_count": null,
   "metadata": {},
   "outputs": [],
   "source": [
    "# open image\n",
    "import imageio\n",
    "import matplotlib.pyplot as plt\n",
    "impath = './images/p1.png'\n",
    "I1 = np.array(imageio.imread(impath1)).astype(np.float64)\n",
    "#plt.imshow(I1)"
   ]
  },
  {
   "cell_type": "code",
   "execution_count": null,
   "metadata": {},
   "outputs": [],
   "source": [
    "# open all images GREYSCALE\n",
    "c = 0\n",
    "l = []\n",
    "for fname in os.listdir(curr_folder):\n",
    "    c = c+1\n",
    "    l.append(np.array(imageio.imread(curr_folder+fname)).flatten())\n",
    "    if c>999:\n",
    "        c=0\n",
    "        break\n",
    "data = np.array(l)\n",
    "data = data/255"
   ]
  },
  {
   "cell_type": "code",
   "execution_count": null,
   "metadata": {},
   "outputs": [],
   "source": [
    "# lots of color labels, numbers = number of classes (e.g. 3 for first three mnist numbers), N is # samples\n",
    "rgb_label = np.array([[0, 0, 1], [0, 1, 0], [1, 0, 0], [1, 1, 0], [1, 0, 1], [0, 1, 1], [0.3, 0.1, 0], [1, 1, 0.3], [0.25, 1, 1], [1, 0.7, 0.9]])\n",
    "C = np.repeat(rgb_label[:numbers,:],np.repeat(N,numbers),axis=0)\n",
    "# example: plt.scatter(S[0],S[1],c=C)"
   ]
  },
  {
   "cell_type": "code",
   "execution_count": null,
   "metadata": {},
   "outputs": [],
   "source": [
    "# rgb to grey\n",
    "def rgb2gray(rgb):\n",
    "\n",
    "    r, g, b = rgb[:,:,0], rgb[:,:,1], rgb[:,:,2]\n",
    "    gray = 0.2989 * r + 0.5870 * g + 0.1140 * b\n",
    "\n",
    "    return gray"
   ]
  },
  {
   "cell_type": "markdown",
   "metadata": {},
   "source": [
    "### sound\n"
   ]
  },
  {
   "cell_type": "code",
   "execution_count": null,
   "metadata": {},
   "outputs": [],
   "source": [
    "# load sound\n",
    "y, sr = librosa.load(\"scary_indie.mp3\", sr = None) \n",
    "segment = y[24*sr:25*sr]\n",
    "IPython.display.display(IPython.display.Audio(segment, rate=sr))"
   ]
  }
 ],
 "metadata": {
  "kernelspec": {
   "display_name": "Python 3",
   "language": "python",
   "name": "python3"
  },
  "language_info": {
   "codemirror_mode": {
    "name": "ipython",
    "version": 3
   },
   "file_extension": ".py",
   "mimetype": "text/x-python",
   "name": "python",
   "nbconvert_exporter": "python",
   "pygments_lexer": "ipython3",
   "version": "3.6.7"
  }
 },
 "nbformat": 4,
 "nbformat_minor": 2
}
